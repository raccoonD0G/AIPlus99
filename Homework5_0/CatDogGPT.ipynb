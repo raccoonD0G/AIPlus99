{
  "nbformat": 4,
  "nbformat_minor": 0,
  "metadata": {
    "colab": {
      "provenance": []
    },
    "kernelspec": {
      "name": "python3",
      "display_name": "Python 3"
    },
    "language_info": {
      "name": "python"
    }
  },
  "cells": [
    {
      "cell_type": "markdown",
      "source": [
        "# 테스트 동영상 : https://github.com/raccoonD0G/AIPlus99/blob/main/Homework5_0/CatDogGPT.mp4"
      ],
      "metadata": {
        "id": "i2ifwl8-9RDI"
      }
    },
    {
      "cell_type": "code",
      "execution_count": null,
      "metadata": {
        "id": "BFvNw0OD84cm"
      },
      "outputs": [],
      "source": [
        "import streamlit as st\n",
        "import base64\n",
        "from openai import OpenAI\n",
        "\n",
        "client = OpenAI(api_key=)\n",
        "\n",
        "st.set_page_config(page_title=GPT-4o Vision 챗봇, layout=centered)\n",
        "st.title(멀티 이미지 기반 챗봇)\n",
        "\n",
        "# 여러 이미지 업로드 받기\n",
        "uploaded_images = st.file_uploader(\n",
        "    이미지를 여러 장 업로드해주세요 (jpg, jpeg, png 형식),\n",
        "    type=[jpg, jpeg, png],\n",
        "    accept_multiple_files=True\n",
        ")\n",
        "\n",
        "# 세션 상태에 이미지 저장 (처음 한 번만 저장)\n",
        "if encoded_images not in st.session_state\n",
        "    st.session_state.encoded_images = []\n",
        "\n",
        "if uploaded_images\n",
        "    st.session_state.encoded_images = [\n",
        "        base64.b64encode(img.read()).decode(utf-8)\n",
        "        for img in uploaded_images\n",
        "    ]\n",
        "    for img in uploaded_images\n",
        "        st.image(img, caption=img.name, use_container_width=True)\n",
        "\n",
        "# 질문 입력 받기\n",
        "if st.session_state.encoded_images\n",
        "    prompt = st.chat_input(이미지를 업로드하고 질문하세요)\n",
        "\n",
        "    if prompt\n",
        "        # 사용자 질문 표시\n",
        "        with st.chat_message(user)\n",
        "            st.markdown(prompt)\n",
        "\n",
        "        # 메시지 구성 (텍스트 + 이미지)\n",
        "        message_content = [{type text, text prompt}]\n",
        "        for encoded in st.session_state.encoded_images\n",
        "            message_content.append({\n",
        "                type image_url,\n",
        "                image_url {url fdataimagejpeg;base64,{encoded}}\n",
        "            })\n",
        "\n",
        "        with st.chat_message(assistant)\n",
        "            response = client.chat.completions.create(\n",
        "                model=gpt-4o-mini,\n",
        "                messages=[{role user, content message_content}]\n",
        "            )\n",
        "            result = response.choices[0].message.content\n",
        "            st.markdown(result)\n",
        "else\n",
        "    st.info(이미지를 먼저 업로드해주세요.)\n"
      ]
    }
  ]
}