{
 "cells": [
  {
   "cell_type": "code",
   "execution_count": 1,
   "metadata": {
    "colab": {
     "base_uri": "https://localhost:8080/"
    },
    "executionInfo": {
     "elapsed": 16937,
     "status": "ok",
     "timestamp": 1744332512760,
     "user": {
      "displayName": "김락훈",
      "userId": "17655752783041505657"
     },
     "user_tz": -540
    },
    "id": "EsnpfsUbPcoJ",
    "outputId": "c631a187-3f38-4564-e736-8944244613d3"
   },
   "outputs": [
    {
     "name": "stdout",
     "output_type": "stream",
     "text": [
      "Mounted at /content/drive\n"
     ]
    }
   ],
   "source": [
    "from google.colab import drive\n",
    "drive.mount('/content/drive')"
   ]
  },
  {
   "cell_type": "code",
   "execution_count": 2,
   "metadata": {
    "colab": {
     "base_uri": "https://localhost:8080/"
    },
    "executionInfo": {
     "elapsed": 501,
     "status": "ok",
     "timestamp": 1744332517765,
     "user": {
      "displayName": "김락훈",
      "userId": "17655752783041505657"
     },
     "user_tz": -540
    },
    "id": "L7sz0n7dPzSe",
    "outputId": "0d1bbbe7-3f29-4d3b-9c0a-dff449503e7e"
   },
   "outputs": [
    {
     "name": "stdout",
     "output_type": "stream",
     "text": [
      "/content/drive/MyDrive/Colab Notebooks/Github/AIPlus99\n"
     ]
    }
   ],
   "source": [
    "cd /content/drive/MyDrive/Colab Notebooks/Github/AIPlus99"
   ]
  },
  {
   "cell_type": "code",
   "execution_count": 3,
   "metadata": {
    "colab": {
     "base_uri": "https://localhost:8080/"
    },
    "executionInfo": {
     "elapsed": 210,
     "status": "ok",
     "timestamp": 1744332520024,
     "user": {
      "displayName": "김락훈",
      "userId": "17655752783041505657"
     },
     "user_tz": -540
    },
    "id": "J9tatHQ1SDZA",
    "outputId": "e13753b1-f405-4fe3-86c4-ffddd5e82d80"
   },
   "outputs": [
    {
     "name": "stdout",
     "output_type": "stream",
     "text": [
      "encoder.pt  projector.pt\n"
     ]
    }
   ],
   "source": [
    "!ls trained_image_autoencoder/"
   ]
  },
  {
   "cell_type": "code",
   "execution_count": null,
   "metadata": {
    "colab": {
     "base_uri": "https://localhost:8080/",
     "height": 873,
     "referenced_widgets": [
      "845a374b16c640a3832faa0ed721ede5",
      "3934e553a3ba43bb9006c1fb3783caad",
      "4ca82a67139d4b6399fbe08537a1c071",
      "5cdb9a9f9ea741659ec803e8013b5ccf",
      "580a400b47ec4e9ca64a466176dde38f",
      "c7f59e1d102b46af83777d0ca7225f40",
      "6aac8c57ba204d8e8822885b4ed83060",
      "0fb3c5ab4ce949eeba3d95528f0432e9",
      "dedc77aa7a3943b4b0500b06c9fc5e91",
      "576f6e5a39c34dd5befb31db81836f03",
      "c00aaf6726c041b9afa52d2fb62d7124",
      "44fc79a9e6204f1d946675f71c7a73c5",
      "cc3479eeb9d64e7b879b6d40b091d513",
      "45c296356d924f7f98558fd09c4bdc83",
      "033dcecf7a644a958c2609b12472dac3",
      "1650124b1a874ed8b3fbd646f9552ad8",
      "b4f574f786a542e19497eff994b5202a",
      "eb94fe14815347af869ee3e76b236172",
      "1c26a8372f2749239f29b76a8f09fd95",
      "5a84ade08de14a4aa16f7f69b0100d37",
      "b3853594d9644276835fb6a151cc8808",
      "fe9edb9bee764d92956a8babe1524702",
      "3bdf082236d44dc1b89ee78d44cd2a5b",
      "33a0b45290c243df9f76655f1f4ee31a",
      "4326c948ec0a4be5a9d2250abd8e067b",
      "0620c0c206d5415d965671c72bfb1ef9",
      "8c86e12724104c8dac1ecf838cd1323a",
      "0f2c66d5462b4de9a823f2d25afec950",
      "3a542493ef6c4a368e8aa1e7273c4dc4",
      "725166df65994531bb02e1f46a8623e9",
      "8446bb6ba778450f87a7a3fbd6812934",
      "333b7f68d26745b8bcadf177cce3345a",
      "2ce85079dd0a4c96a6b13a0453261459",
      "5699c34c78574a94b4f61704c68f349c",
      "7c212e0588814de7a96b65fd7aec8571",
      "fa9695b29806450eb9db164545f49d5f",
      "6089555120f3483ab31241b7b8abddd2",
      "72dad0415eb145efb86e6bde58acce75",
      "c99d086285f74b599758e1bf58de1668",
      "20d273a731ef4d7391a7d60f0d888c0a",
      "2a0c3ca5d45248bc8537a2e965f23de0",
      "90dbe38c621540118fa2852abd00a783",
      "ef9e0d3fa5934ad487c9b3bb2b9e14c5",
      "bc3375b6152f4c55a902562ad306911b",
      "b45cd51cbfda4c579cf5041d41048b9f",
      "f202ff8682c8424a94da801878ba641f",
      "1fa4b0f0de6945e185dbb871c78ef9da",
      "5bc4d6cf81ad4cbca39e8b421f4a96fe",
      "8345d03408284dd791676418c9f6ebf0",
      "7ca818aeb9ad4f16b04a5aeda185a263",
      "0503a85e9e534ff08e6600c1b8283955",
      "ded8f47afe8344ccbfcd83a5dd140a97",
      "ea930f736fe840e6b2c65faeb6a8d7a8",
      "6ff42de334544065a4ad6147b3a2138a",
      "8af2b9f4eda74f0fbecad65cbe03690c",
      "6a7845f400444d579713bcc33b8bea51",
      "d7c60e5ab29344ecbbcb31f03551015e",
      "9ee24db4193f49eb8e3f980738ea895c",
      "c44084df964a4a8daa8835d3db269d67",
      "2d19520ccd0442e98b6dbbc60f917111",
      "b3adc5dc073448dcb252bbcb41d8e7a7",
      "4d09f31e3f8942a497de421f952730b8",
      "bdc7de3dd6aa4ffda86247756df11295",
      "390ee7fc5fbb47f08db50ec482d10972",
      "f030697ef010405f85d80afbc3633073",
      "1a30416c8558462480304e7e7d8c3806",
      "b80123d163cf4edd816ca52dc39ec40c",
      "69de1b37d305476b8ee7f3619635adaf",
      "1994055c07b045f2ae8cfd4a33785e10",
      "3df4feff03af45d0b7107d77a87b32c0",
      "a212522e56e34b5e99e6238c66060129",
      "220569841dd942fa8e0f67f65d042a56",
      "05f559ff98484d27807546b786c73c84",
      "d5c73db3438243f19085638ba67dee19",
      "ebcdfa36919f44c8aa55c3595d4640e8",
      "9c97009ee7c34b979547acc703ecf8e9",
      "84c34d1a18bf44219f3bf16f4f9740cd",
      "a0a48b34d1ef4cf0a6115c01b9e31b04",
      "c5e04b04237b412d8f363b2daa2cd869",
      "ff2a652fcab34559a0a00273ddb7baed",
      "d1dd181b2f8d46f88c41592682c02a9b",
      "fcceaca86375480786be9e8eb3ab90e1",
      "bf723edd0df44af89e47167536ae0409",
      "f6050ec4c8434542a4d064febc41689d",
      "f6ee00177cb04350ad1e53c74d77177e",
      "ba64ac896ed64e86aad7401cae95b9de",
      "4bc3adc4ff6f41b9a8698c91cc60e149",
      "b409d852b2444689a0e90a23eaffcdb2",
      "fea3d1eb328b4efba8110175f752c879",
      "fa10fddf91924286bccef86c45cb9675",
      "24f13bcb26a44bff8b1e757930fd11c0",
      "33d3253f8236484f811c11a1df637f77",
      "15dde6885f454b109ac7b9c659b1d75e",
      "a99df88cb6f8490dba1eb8f49853d129",
      "c06572e01bb04f3f9e06e944501f13a1",
      "8256a3c28ce14d69a197eef82031a740",
      "303f6e01387546d8947e0a01215e3edb",
      "03b3c2a9dd124262a2cd1f958659d6a8",
      "d1a3c47605cf4773b76dca49413d4aa8",
      "10629b17ebf5465797310f54b0d5c65a",
      "6776c2885768400cb4190659451f20ed",
      "0b43cddc45cb4c5bbeaf25a0540d28ac",
      "0571dfb75d774990b4042e56e2335753",
      "494e7300f8624f5e93ced57236b07994",
      "fd652882d5a642b4a15a7f7dc2172142",
      "fd9b46ae96324be49b8ac87d05fc182f",
      "2bd2bada0a7f48e186ef8e1822c5bde1",
      "90420984f43f4a3b9138bbe2efbefa8d",
      "5cf3c56725a34a858f08bfa41f2cf0de",
      "6d1f2823837140099e218f4f1c727638",
      "22c0bfd941e043aab1136017c7b779e1",
      "dcd7b5aa1f9c4deda99ef93c9600f4a6",
      "fb0d0af194a74897b372f9fa52d2d5f1",
      "6f1f328be6fd40ffb966386a58a405fa",
      "41dde497b0924384ab1dcb77c6d7200c",
      "9accd2d34cdd4fbf94200340cbff8807",
      "812f9d3910284c649dbb0a975a35d047",
      "d0df90c311eb467ca975e55648b7ebe1",
      "678a43f3aae848dea18b7db6dfad2aeb",
      "c40bb405e65e4b66883243a16f151135",
      "4b77535d48904af2885fdaa5c5ae91e4",
      "86850310f1334801a43e3b831ac8b0b4",
      "d0281dfe56fe46c0a1a4c7a5e8bb03e8",
      "248e36a4348b43baaeacb6c318690279",
      "a5b4b496d453473589e604c47974ed02",
      "68b80bbf078a42eb934d2d7cce304842",
      "017e3a902f6344dea23ad0f71f84a6a8",
      "ad3e699dec6a44589f35fe372d7ba768",
      "2bba5f97c52e4c889deab6fe936e9e5d",
      "973fdb876faa42fbb8ec66e5f901b553",
      "73ec168357b34619830c94ffdc530887",
      "be515ff57a5940d195cb8168a66a68af",
      "406a909a0e8d49babe565144c62a6bf8",
      "0cf403a050b14d398974e9abf7862142",
      "2f35f509412e4632b1625fc4ff67a095",
      "7a2e214c26cf4927835f2e0fff65c321",
      "095bc82e414848a4ad5be3f2c14038fe",
      "af87f3c97f0c4c7baded4be2fa06ec93",
      "835b43537daf43df938227638a5e7c8c",
      "5903f7f45671433bba97fd54bebf10d9",
      "ce01dc9d5e1946e99be645e5aa718777",
      "45d70aab23914a8eb2037a466110fe73",
      "4fc17a9c785149a3b20889e068bf1c86",
      "a0115a4dec8a46b39fb603e5a8765f39",
      "502ca2977568449794866812e113ad28",
      "8b5a3aa38f024c2995285844c537c040",
      "a78bf464447b4279b88d3673c3086311",
      "4074224d3a6f4e2ba1b71d69ba215d42",
      "b322ff7e41a54944abdb50f96ce77478",
      "b52752b58e654d9ca9e5228c4b585fe2",
      "232959838f684dddbcc6f963d1321e0a",
      "ece48028366c4f5f82540de1008894dd",
      "694ccb2b7ad34dcdaed7b0a4bc635cfa",
      "cbb6d49d873a429ab2b70304f588b3d9",
      "c3b4bab6081e40fab3c4149a1c690e26",
      "c2bc17abce2041c491c4db11c7066d16",
      "041d94412031438a9770d8c80dcfe001",
      "f4f0df6699254bba9b4e9344e2112d53",
      "d5eb18df1f0a423489aa95b88af3d991",
      "f4b81103954e4a7c8fddec02fb1c7a65",
      "4aea82e7258645fc966267354475b54b",
      "c7f0d8a463374b9583e1fbecd1ed7a42",
      "5523e652eeaf415d93aed1ce044ac199",
      "1e7be9a4c35a401393a7b0f0b368bc56",
      "e3688fb06d324c71b17caefd8b71ed98",
      "93f8ce9fb3d4453882c9ddfc233de98a",
      "f7f9b70f222c4a79a80254254e0930e6",
      "0ae51d76958a4ea683ba6b903dd154ed",
      "3638fd035cda4193aa6e2414e63eb052",
      "65f620a76e68415f8cde37755794740a",
      "ed7194baa1b74ad7a5cc5edb8b614969",
      "92addf9414a84d11b961ea29d256b1e5",
      "b6d7e8df99384632bda8458b41de6eae",
      "3c8e7a5bda3e49b998cad9006b409de7",
      "09f6383dad4d47cb80fe957f88b79818",
      "650a5952f3e44b15bb4d5dd51e7e891e",
      "991b686ebb69490e896951a5576f9e43",
      "5c28c39c424e4b0ab08ae192cf2c133e",
      "aaa6ab1068204170850b40dc4ac3bf29",
      "2b88454a3e664c439ca3563e01013b1b",
      "c9ef128762ad47a281cbbeacb6337d96",
      "2f14ed2a22614b94bf88441d2fb9286d",
      "c598e8549e5442ff9f03ccee5835a98f",
      "70e01bbe84c9460b8a0ccefd368f4592",
      "bbb70dbe5ae34034be925b17cfcd46d7",
      "209660d05bbf4957862e7d794053b9e7",
      "521c38b868f0440d9da98835a3ab4ffd",
      "22f27d88a92c4db9972838f47ef0375b",
      "03f4a314cea4438c9732f0108b7162be",
      "c740770b08ce464d9083bc42b23c973c",
      "fc4d04361cb04e39a5829fe3a53650dc",
      "05d29dab4da64f10adb8f7de02e42421",
      "7d478064870e4f0898ba729b4a102985",
      "eb031271671a42fea0376bcf9345cc64",
      "8448cda7a8cb48e79c0f12b07c314421",
      "c9c8434a5cb947efad2908456f30c7d2",
      "a93c9d3a7a78484db35c69c4a316b756",
      "0c17583e724c44558aa51e067820cc8f"
     ]
    },
    "id": "lUncRlKSHdJT",
    "outputId": "024316b1-19a2-491c-fc60-f182411e6608"
   },
   "outputs": [
    {
     "data": {
      "application/vnd.jupyter.widget-view+json": {
       "model_id": "845a374b16c640a3832faa0ed721ede5",
       "version_major": 2,
       "version_minor": 0
      },
      "text/plain": [
       "Loading pipeline components...:   0%|          | 0/5 [00:00<?, ?it/s]"
      ]
     },
     "metadata": {},
     "output_type": "display_data"
    },
    {
     "name": "stderr",
     "output_type": "stream",
     "text": [
      "An error occurred while trying to fetch /root/.cache/huggingface/hub/models--segmind--tiny-sd/snapshots/cad0bd7495fa6c4bcca01b19a723dc91627fe84f/vae: Error no file named diffusion_pytorch_model.safetensors found in directory /root/.cache/huggingface/hub/models--segmind--tiny-sd/snapshots/cad0bd7495fa6c4bcca01b19a723dc91627fe84f/vae.\n",
      "Defaulting to unsafe serialization. Pass `allow_pickle=False` to raise an error instead.\n",
      "An error occurred while trying to fetch /root/.cache/huggingface/hub/models--segmind--tiny-sd/snapshots/cad0bd7495fa6c4bcca01b19a723dc91627fe84f/unet: Error no file named diffusion_pytorch_model.safetensors found in directory /root/.cache/huggingface/hub/models--segmind--tiny-sd/snapshots/cad0bd7495fa6c4bcca01b19a723dc91627fe84f/unet.\n",
      "Defaulting to unsafe serialization. Pass `allow_pickle=False` to raise an error instead.\n"
     ]
    },
    {
     "name": "stdout",
     "output_type": "stream",
     "text": [
      "가중치를 받아옵니다 'trained_image_autoencoder'\n",
      "가중치 로드 완료: text_classifier.pt\n"
     ]
    },
    {
     "name": "stderr",
     "output_type": "stream",
     "text": [
      "\r",
      "  0%|          | 0/88 [00:00<?, ?it/s]"
     ]
    },
    {
     "data": {
      "application/vnd.jupyter.widget-view+json": {
       "model_id": "44fc79a9e6204f1d946675f71c7a73c5",
       "version_major": 2,
       "version_minor": 0
      },
      "text/plain": [
       "  0%|          | 0/10 [00:00<?, ?it/s]"
      ]
     },
     "metadata": {},
     "output_type": "display_data"
    },
    {
     "data": {
      "application/vnd.jupyter.widget-view+json": {
       "model_id": "3bdf082236d44dc1b89ee78d44cd2a5b",
       "version_major": 2,
       "version_minor": 0
      },
      "text/plain": [
       "  0%|          | 0/10 [00:00<?, ?it/s]"
      ]
     },
     "metadata": {},
     "output_type": "display_data"
    },
    {
     "name": "stderr",
     "output_type": "stream",
     "text": [
      "\r",
      "  1%|          | 1/88 [00:11<15:59, 11.03s/it]"
     ]
    },
    {
     "data": {
      "application/vnd.jupyter.widget-view+json": {
       "model_id": "5699c34c78574a94b4f61704c68f349c",
       "version_major": 2,
       "version_minor": 0
      },
      "text/plain": [
       "  0%|          | 0/10 [00:00<?, ?it/s]"
      ]
     },
     "metadata": {},
     "output_type": "display_data"
    },
    {
     "data": {
      "application/vnd.jupyter.widget-view+json": {
       "model_id": "b45cd51cbfda4c579cf5041d41048b9f",
       "version_major": 2,
       "version_minor": 0
      },
      "text/plain": [
       "  0%|          | 0/10 [00:00<?, ?it/s]"
      ]
     },
     "metadata": {},
     "output_type": "display_data"
    },
    {
     "name": "stderr",
     "output_type": "stream",
     "text": [
      "\r",
      "  2%|▏         | 2/88 [00:22<16:25, 11.46s/it]"
     ]
    },
    {
     "data": {
      "application/vnd.jupyter.widget-view+json": {
       "model_id": "6a7845f400444d579713bcc33b8bea51",
       "version_major": 2,
       "version_minor": 0
      },
      "text/plain": [
       "  0%|          | 0/10 [00:00<?, ?it/s]"
      ]
     },
     "metadata": {},
     "output_type": "display_data"
    },
    {
     "data": {
      "application/vnd.jupyter.widget-view+json": {
       "model_id": "b80123d163cf4edd816ca52dc39ec40c",
       "version_major": 2,
       "version_minor": 0
      },
      "text/plain": [
       "  0%|          | 0/10 [00:00<?, ?it/s]"
      ]
     },
     "metadata": {},
     "output_type": "display_data"
    },
    {
     "name": "stderr",
     "output_type": "stream",
     "text": [
      "\r",
      "  3%|▎         | 3/88 [00:33<15:48, 11.16s/it]"
     ]
    },
    {
     "data": {
      "application/vnd.jupyter.widget-view+json": {
       "model_id": "a0a48b34d1ef4cf0a6115c01b9e31b04",
       "version_major": 2,
       "version_minor": 0
      },
      "text/plain": [
       "  0%|          | 0/10 [00:00<?, ?it/s]"
      ]
     },
     "metadata": {},
     "output_type": "display_data"
    },
    {
     "data": {
      "application/vnd.jupyter.widget-view+json": {
       "model_id": "fea3d1eb328b4efba8110175f752c879",
       "version_major": 2,
       "version_minor": 0
      },
      "text/plain": [
       "  0%|          | 0/10 [00:00<?, ?it/s]"
      ]
     },
     "metadata": {},
     "output_type": "display_data"
    },
    {
     "name": "stderr",
     "output_type": "stream",
     "text": [
      "\r",
      "  5%|▍         | 4/88 [00:44<15:12, 10.87s/it]"
     ]
    },
    {
     "data": {
      "application/vnd.jupyter.widget-view+json": {
       "model_id": "10629b17ebf5465797310f54b0d5c65a",
       "version_major": 2,
       "version_minor": 0
      },
      "text/plain": [
       "  0%|          | 0/10 [00:00<?, ?it/s]"
      ]
     },
     "metadata": {},
     "output_type": "display_data"
    },
    {
     "data": {
      "application/vnd.jupyter.widget-view+json": {
       "model_id": "22c0bfd941e043aab1136017c7b779e1",
       "version_major": 2,
       "version_minor": 0
      },
      "text/plain": [
       "  0%|          | 0/10 [00:00<?, ?it/s]"
      ]
     },
     "metadata": {},
     "output_type": "display_data"
    },
    {
     "name": "stderr",
     "output_type": "stream",
     "text": [
      "\r",
      "  6%|▌         | 5/88 [00:52<13:39,  9.88s/it]"
     ]
    },
    {
     "data": {
      "application/vnd.jupyter.widget-view+json": {
       "model_id": "86850310f1334801a43e3b831ac8b0b4",
       "version_major": 2,
       "version_minor": 0
      },
      "text/plain": [
       "  0%|          | 0/10 [00:00<?, ?it/s]"
      ]
     },
     "metadata": {},
     "output_type": "display_data"
    },
    {
     "data": {
      "application/vnd.jupyter.widget-view+json": {
       "model_id": "406a909a0e8d49babe565144c62a6bf8",
       "version_major": 2,
       "version_minor": 0
      },
      "text/plain": [
       "  0%|          | 0/10 [00:00<?, ?it/s]"
      ]
     },
     "metadata": {},
     "output_type": "display_data"
    },
    {
     "name": "stderr",
     "output_type": "stream",
     "text": [
      "\r",
      "  7%|▋         | 6/88 [01:01<13:28,  9.86s/it]"
     ]
    },
    {
     "data": {
      "application/vnd.jupyter.widget-view+json": {
       "model_id": "a0115a4dec8a46b39fb603e5a8765f39",
       "version_major": 2,
       "version_minor": 0
      },
      "text/plain": [
       "  0%|          | 0/10 [00:00<?, ?it/s]"
      ]
     },
     "metadata": {},
     "output_type": "display_data"
    },
    {
     "data": {
      "application/vnd.jupyter.widget-view+json": {
       "model_id": "c3b4bab6081e40fab3c4149a1c690e26",
       "version_major": 2,
       "version_minor": 0
      },
      "text/plain": [
       "  0%|          | 0/10 [00:00<?, ?it/s]"
      ]
     },
     "metadata": {},
     "output_type": "display_data"
    },
    {
     "name": "stderr",
     "output_type": "stream",
     "text": [
      "\r",
      "  8%|▊         | 7/88 [01:11<13:06,  9.72s/it]"
     ]
    },
    {
     "data": {
      "application/vnd.jupyter.widget-view+json": {
       "model_id": "93f8ce9fb3d4453882c9ddfc233de98a",
       "version_major": 2,
       "version_minor": 0
      },
      "text/plain": [
       "  0%|          | 0/10 [00:00<?, ?it/s]"
      ]
     },
     "metadata": {},
     "output_type": "display_data"
    },
    {
     "data": {
      "application/vnd.jupyter.widget-view+json": {
       "model_id": "991b686ebb69490e896951a5576f9e43",
       "version_major": 2,
       "version_minor": 0
      },
      "text/plain": [
       "  0%|          | 0/10 [00:00<?, ?it/s]"
      ]
     },
     "metadata": {},
     "output_type": "display_data"
    },
    {
     "name": "stderr",
     "output_type": "stream",
     "text": [
      "\r",
      "  9%|▉         | 8/88 [01:22<13:27, 10.10s/it]"
     ]
    },
    {
     "data": {
      "application/vnd.jupyter.widget-view+json": {
       "model_id": "22f27d88a92c4db9972838f47ef0375b",
       "version_major": 2,
       "version_minor": 0
      },
      "text/plain": [
       "  0%|          | 0/10 [00:00<?, ?it/s]"
      ]
     },
     "metadata": {},
     "output_type": "display_data"
    }
   ],
   "source": [
    "import torch\n",
    "import torch.nn as nn\n",
    "import pandas as pd\n",
    "from sklearn.model_selection import train_test_split\n",
    "from transformers import AutoTokenizer\n",
    "from torch.utils.data import Dataset, DataLoader\n",
    "from torch.optim import Adam\n",
    "from torch.nn import CrossEntropyLoss\n",
    "from tqdm import tqdm\n",
    "from Homework2_1 import TextToImageClassifier\n",
    "\n",
    "tokenizer = AutoTokenizer.from_pretrained(\"facebook/mbart-large-50\")\n",
    "tokenizer.src_lang = \"en_XX\"\n",
    "tokenizer.tgt_lang = \"fr_XX\"\n",
    "\n",
    "\n",
    "csv_path = \"eng_-french/eng_-french.csv\"\n",
    "df = pd.read_csv(csv_path, header=None)\n",
    "df.columns = [\"English\", \"French\"]\n",
    "df.dropna(inplace=True)\n",
    "df = df.sample(frac=0.01, random_state=42).reset_index(drop=True)\n",
    "train_data, test_data = train_test_split(df, test_size=0.2, random_state=42)\n",
    "\n",
    "def tokenize_target(texts, max_length=64):\n",
    "    tokenized = tokenizer(texts, padding=\"max_length\", truncation=True, max_length=max_length, return_tensors=\"pt\")\n",
    "    return tokenized[\"input_ids\"]\n",
    "\n",
    "train_targets = tokenize_target(train_data[\"French\"].tolist())\n",
    "test_targets = tokenize_target(test_data[\"French\"].tolist())\n",
    "\n",
    "class TranslationDataset(Dataset):\n",
    "    def __init__(self, sources, targets):\n",
    "        self.sources = sources\n",
    "        self.targets = targets\n",
    "\n",
    "    def __len__(self):\n",
    "        return len(self.sources)\n",
    "\n",
    "    def __getitem__(self, idx):\n",
    "        return self.sources[idx], self.targets[idx]\n",
    "\n",
    "train_dataset = TranslationDataset(train_data[\"English\"].tolist(), train_targets)\n",
    "test_dataset = TranslationDataset(test_data[\"English\"].tolist(), test_targets)\n",
    "train_loader = DataLoader(train_dataset, batch_size=16, shuffle=True)\n",
    "test_loader = DataLoader(test_dataset, batch_size=16)\n",
    "\n",
    "class PositionalEncoding(nn.Module):\n",
    "    def __init__(self, d_model, max_len=5000):\n",
    "        super().__init__()\n",
    "        pe = torch.zeros(max_len, d_model)\n",
    "        pos = torch.arange(0, max_len).unsqueeze(1)\n",
    "        div = torch.exp(torch.arange(0, d_model, 2) * -(torch.log(torch.tensor(10000.0)) / d_model))\n",
    "        pe[:, 0::2] = torch.sin(pos * div)\n",
    "        pe[:, 1::2] = torch.cos(pos * div)\n",
    "        self.register_buffer('pe', pe.unsqueeze(0))\n",
    "\n",
    "    def forward(self, x):\n",
    "        return x + self.pe[:, :x.size(1)]\n",
    "\n",
    "\n",
    "class TextToTranslationModel(nn.Module):\n",
    "    def __init__(self, text_image_encoder, tgt_vocab_size, d_model=512, num_layers=4, nhead=8, dim_feedforward=2048):\n",
    "        super().__init__()\n",
    "\n",
    "        self.text_image_encoder = text_image_encoder\n",
    "        self.project_fused = nn.Linear(1536, d_model)\n",
    "\n",
    "        self.embedding = nn.Embedding(tgt_vocab_size, d_model)\n",
    "        self.pos_encoding = PositionalEncoding(d_model)\n",
    "\n",
    "        decoder_layer = nn.TransformerDecoderLayer(d_model, nhead, dim_feedforward)\n",
    "        self.transformer_decoder = nn.TransformerDecoder(decoder_layer, num_layers)\n",
    "        self.fc_out = nn.Linear(d_model, tgt_vocab_size)\n",
    "\n",
    "\n",
    "    def forward(self, sentence_list, tgt_input, tgt_mask=None):\n",
    "        sentence_pairs = [(s, s) for s in sentence_list]\n",
    "\n",
    "        memory = self.text_image_encoder.extract_features(sentence_pairs)\n",
    "        memory = self.project_fused(memory).unsqueeze(1).transpose(0, 1)\n",
    "\n",
    "        tgt_emb = self.embedding(tgt_input)\n",
    "        tgt_emb = self.pos_encoding(tgt_emb).transpose(0, 1)\n",
    "\n",
    "        out = self.transformer_decoder(tgt_emb, memory, tgt_mask=tgt_mask)\n",
    "        return self.fc_out(out.transpose(0, 1))\n",
    "\n",
    "    def generate(self, sentence, max_len=50, sos_token=tokenizer.lang_code_to_id[\"fr_XX\"], eos_token=2):\n",
    "        self.eval()\n",
    "        generated = [sos_token]\n",
    "        for _ in range(max_len):\n",
    "            tgt_input = torch.tensor([generated], dtype=torch.long).to(next(self.parameters()).device)\n",
    "            logits = self.forward([sentence], tgt_input)\n",
    "            next_token = logits[0, -1].argmax(-1).item()\n",
    "            generated.append(next_token)\n",
    "            if next_token == eos_token:\n",
    "                break\n",
    "        return tokenizer.decode(generated, skip_special_tokens=True)\n",
    "\n",
    "\n",
    "text_image_encoder = TextToImageClassifier().to(\"cuda\")\n",
    "model = TextToTranslationModel(text_image_encoder, tgt_vocab_size=tokenizer.vocab_size).to(\"cuda\")\n",
    "optimizer = Adam(model.parameters(), lr=5e-5)\n",
    "loss_fn = CrossEntropyLoss(ignore_index=tokenizer.pad_token_id)\n",
    "\n",
    "for epoch in range(50):\n",
    "    model.train()\n",
    "    total_loss = 0\n",
    "    for src_texts, tgt_ids in tqdm(train_loader):\n",
    "        decoder_input = tgt_ids[:, :-1].to(\"cuda\")\n",
    "        decoder_target = tgt_ids[:, 1:].to(\"cuda\")\n",
    "        outputs = model(src_texts, decoder_input)\n",
    "        loss = loss_fn(outputs.reshape(-1, outputs.size(-1)), decoder_target.reshape(-1))\n",
    "        optimizer.zero_grad()\n",
    "        loss.backward()\n",
    "        optimizer.step()\n",
    "        total_loss += loss.item()\n",
    "    print(f\"Epoch {epoch+1} | Loss: {total_loss:.4f}\")\n",
    "\n",
    "    print(\"\\n=== Random Translation Samples ===\")\n",
    "    model.eval()\n",
    "\n",
    "    # 랜덤 샘플 10개 추출\n",
    "    samples = test_data.sample(10, random_state=42).reset_index(drop=True)\n",
    "\n",
    "    for i in range(len(samples)):\n",
    "        en = samples.loc[i, \"English\"]\n",
    "        fr = samples.loc[i, \"French\"]\n",
    "        pred = model.generate(en)\n",
    "\n",
    "        print(f\"[{i + 1}]\")\n",
    "        print(f\"EN (input): {en}\")\n",
    "        print(f\"FR (true) : {fr}\")\n",
    "        print(f\"FR (pred) : {pred}\")\n",
    "        print(\"-\" * 80)"
   ]
  }
 ],
 "metadata": {
  "accelerator": "GPU",
  "colab": {
   "gpuType": "A100",
   "machine_shape": "hm",
   "provenance": [
    {
     "file_id": "1Q8Co2FWHxjftQw3hZmk4SjF3lyse4MZR",
     "timestamp": 1744291831468
    }
   ]
  },
  "kernelspec": {
   "display_name": "Python 3",
   "name": "python3"
  },
  "language_info": {
   "name": "python"
  }
 },
 "nbformat": 4,
 "nbformat_minor": 0
}
